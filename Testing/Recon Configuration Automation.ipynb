{
 "cells": [
  {
   "cell_type": "markdown",
   "id": "e3f2d1bf",
   "metadata": {},
   "source": [
    "# Recon Configuration Automation\n",
    "### 1.recon table"
   ]
  },
  {
   "cell_type": "code",
   "execution_count": null,
   "id": "605f0b58",
   "metadata": {},
   "outputs": [],
   "source": [
    "import pandas as pd\n",
    "import numpy as np\n",
    "import os\n",
    "df = pd.read_excel('Baroda_CID Rules.xlsx')\n",
    "df.fillna(value='',inplace=True)\n",
    "df = df[df['Type'] == 'Feed']\n",
    "rules_df = pd.read_excel('Baroda_CID Rules.xlsx',sheet_name = 'SourceVsTask')\n",
    "rules_df.fillna(value='',inplace=True)\n",
    "df_obj = rules_df.select_dtypes(['object'])\n",
    "rules_df[df_obj.columns] = df_obj.apply(lambda x: x.str.strip())\n",
    "rules_df['Fullmatch_Condition'] = rules_df['Fullmatch_Condition'].replace(['=='],'=')\n",
    "rules_df['Crosscredit_Condition'] = rules_df['Crosscredit_Condition'].replace(['=='],'=')"
   ]
  },
  {
   "cell_type": "code",
   "execution_count": null,
   "id": "14a7185a",
   "metadata": {},
   "outputs": [],
   "source": [
    "recon = pd.DataFrame(columns=[\"ID\", \"Recon_ID\", \"Raw_Feed\", \"Left_Table\", \"Raw_Join\", \"Right_Table\", \"Join_Condition\", \"Column_Selection\", \"Recon_Update\", \"Batch\", \"module_name\"])"
   ]
  },
  {
   "cell_type": "code",
   "execution_count": null,
   "id": "d153ef20",
   "metadata": {},
   "outputs": [],
   "source": [
    "def create_joincond(Sub_Feed, feed_df, type_):\n",
    "    join_str = 'SELECT Z.*, O.* FROM standard_feed AS Z INNER JOIN standard_task AS O ON '\n",
    "    if type_ == 'feedvstask':\n",
    "        for idx, rule1 in feed_df.iterrows():\n",
    "            tem_str = f\"Z.`{rule1['Fullmatch_Source_Column']}`{rule1['Fullmatch_Condition']}O.`{rule1['Fullmatch_Task_Column']}` {rule1['Condition']} \"\n",
    "            #Z.`ORDER_NO`=O.`batch` AND Z.`RTA_SCH_CODE`=O.`scheme` AND Z.`AMOUNT`=O.`amt`\n",
    "            join_str = join_str+tem_str\n",
    "        join_str = join_str.strip().rstrip('AND')\n",
    "        return join_str\n",
    "    else:\n",
    "        for idx, rule1 in feed_df.iterrows():\n",
    "            tem_str = f\"Z.`{rule1['Fullmatch_Source_Column']}`{rule1['Fullmatch_Condition']}O.`{rule1['Fullmatch_Task_Column']}` {rule1['Condition']} \"\n",
    "            #Z.`ORDER_NO`=O.`batch` AND Z.`RTA_SCH_CODE`=O.`scheme` AND Z.`AMOUNT`=O.`amt`\n",
    "            join_str = join_str+tem_str\n",
    "        join_str = join_str.strip().rstrip('AND').strip()\n",
    "        return join_str"
   ]
  },
  {
   "cell_type": "code",
   "execution_count": null,
   "id": "51a80387",
   "metadata": {
    "scrolled": true
   },
   "outputs": [],
   "source": [
    "row_val = 0\n",
    "for index, row in df.iterrows():\n",
    "    print(row['Sub-Feed'])\n",
    "    Sub_Feed = row['Sub-Feed']\n",
    "    table_name = row['Table-Name']\n",
    "    module_name = row['module_name']\n",
    "    #  Creating Ingestion Folders\n",
    "    #os.mkdir(f\"SharedFolders/{row['Sub-Feed']}\")\n",
    "    feed_df = rules_df[rules_df['Name (Sub_feed/Bank)'] == Sub_Feed]\n",
    "    Raw_Join = f'SELECT Z.*, O.`Feed_ID` FROM {table_name} AS Z RIGHT JOIN standard_feed AS O ON Z.`Raw_ID`=O.`Feed_ID`'\n",
    "    join_condition = create_joincond(Sub_Feed, feed_df, type_='feedvstask')\n",
    "    update_quer = f\"ALTER TABLE [Tem] ALTER COLUMN [Raw_ID] [varchar](100) NULL;UPDATE [standard_task] SET [standard_task].[Matched_Feed_ID] = [Tem].[Raw_ID] , [standard_task].[reconciled_datetime] = GETDATE(),[standard_task].[Credit Received Date] = [standard_feed].[Credit Received Date] ,[standard_task].[ID]=[standard_feed].[ID],[standard_task].[Credit Received Time] = [standard_feed].[Credit Received Time], [standard_task].[Bank_Name] = [standard_feed].[Bank_Name], [standard_task].[Bank_Account_Number] = [standard_feed].[Bank_Account_Number], [standard_task].[queue] = 'Tran_Query' FROM [standard_task], [standard_feed], [Tem] WHERE [standard_feed].[Feed_ID] = [Tem].[Raw_ID] AND [standard_task].[Task_ID] = [Tem].[Task_ID] AND [standard_task].[Matched_Feed_ID] = '' AND [standard_feed].[Sub_Feed] = '{Sub_Feed}';DELETE FROM [Tem] WHERE [Raw_ID] IN (SELECT X.[Raw_ID] from (SELECT [Raw_ID],[Task_ID] FROM [Tem] EXCEPT SELECT [Matched_Feed_ID],[Task_ID] FROM [standard_task]) as X);UPDATE [standard_feed] SET [standard_feed].[Matched] = 1,[standard_feed].[queue] = 'Tran_Query' FROM [standard_feed], [Tem] WHERE [standard_feed].[Feed_ID] = [Tem].[Raw_ID] AND [standard_feed].[Sub_Feed] = '{Sub_Feed}';UPDATE [{table_name}] SET [{table_name}].[Matched] = 1,[{table_name}].[queue] = 'Tran_Query'  FROM [{table_name}], [Tem] WHERE [{table_name}].[Raw_ID] = [Tem].[Raw_ID];DROP TABLE [Tem]\"\n",
    "    tem_df = {'ID':row_val+1,\n",
    "              'Recon_ID':'FeedvsTask1',\n",
    "              'Raw_Feed':table_name,\n",
    "              'Left_Table':'standard_feed',\n",
    "              'Raw_Join':Raw_Join,\n",
    "              'Right_Table':'standard_task',\n",
    "              'Join_Condition':join_condition,\n",
    "              'Column_Selection':'Raw_ID,Task_ID',\n",
    "              'Recon_Update':update_quer,\n",
    "              'Batch':Sub_Feed.lower(),\n",
    "              'module_name':module_name}\n",
    "    recon = recon.append(tem_df, ignore_index = True)\n",
    "    \n",
    "    join_condition2 = create_joincond(Sub_Feed, feed_df, type_='crosscredit')\n",
    "    update_quer2 = f\"ALTER TABLE [Tem] ALTER COLUMN [Raw_ID] [varchar](100) NULL;UPDATE [standard_task] SET [standard_task].[Feed_ID] = [Tem].[Raw_ID], [standard_task].[reconciled_datetime] = GETDATE() FROM [standard_task], [Tem] WHERE [standard_task].[Task_ID] = [Tem].[Task_ID];UPDATE [standard_task] SET [standard_task].[queue] = 'Exception Reconciliation_Cross Credit' FROM [standard_task], [Tem] WHERE [standard_task].[Task_ID] = [Tem].[Task_ID];UPDATE [standard_feed] SET [standard_feed].[queue] = 'Exception Reconciliation_Cross Credit' FROM [standard_feed], [Tem] WHERE [standard_feed].[Sub_Feed] = '{Sub_Feed}' AND [standard_feed].[Feed_ID] = [Tem].[Raw_ID];UPDATE [{table_name}] SET [{table_name}].[queue] = 'Exception Reconciliation_Cross Credit' FROM [{table_name}], [Tem] WHERE [{table_name}].[Raw_ID] = [Tem].[Raw_ID];DROP TABLE [Tem]\"\n",
    "    tem_df = {'ID':row_val+2,\n",
    "              'Recon_ID':'Cross_Credit1',\n",
    "              'Raw_Feed':table_name,\n",
    "              'Left_Table':'standard_feed',\n",
    "              'Raw_Join':Raw_Join,\n",
    "              'Right_Table':'standard_task',\n",
    "              'Join_Condition':join_condition2,\n",
    "              'Column_Selection':'Raw_ID,Task_ID',\n",
    "              'Recon_Update':update_quer2,\n",
    "              'Batch':Sub_Feed.lower(),\n",
    "              'module_name':module_name}\n",
    "    recon = recon.append(tem_df, ignore_index = True)\n",
    "    row_val+=2"
   ]
  },
  {
   "cell_type": "code",
   "execution_count": null,
   "id": "47f984f7",
   "metadata": {},
   "outputs": [],
   "source": [
    "recon.set_index('ID').to_excel('recon.xlsx',sheet_name='recon')"
   ]
  },
  {
   "cell_type": "code",
   "execution_count": null,
   "id": "cb4ef912",
   "metadata": {},
   "outputs": [],
   "source": []
  },
  {
   "cell_type": "markdown",
   "id": "1f3877d4",
   "metadata": {},
   "source": []
  },
  {
   "cell_type": "code",
   "execution_count": null,
   "id": "31598865",
   "metadata": {},
   "outputs": [],
   "source": []
  },
  {
   "cell_type": "code",
   "execution_count": null,
   "id": "d929abb0",
   "metadata": {},
   "outputs": [],
   "source": []
  },
  {
   "cell_type": "code",
   "execution_count": null,
   "id": "1fbaf0fd",
   "metadata": {},
   "outputs": [],
   "source": []
  },
  {
   "cell_type": "code",
   "execution_count": null,
   "id": "6e0b6135",
   "metadata": {},
   "outputs": [],
   "source": []
  },
  {
   "cell_type": "code",
   "execution_count": 31,
   "id": "a9e16a73",
   "metadata": {},
   "outputs": [],
   "source": []
  },
  {
   "cell_type": "code",
   "execution_count": null,
   "id": "9df70a14",
   "metadata": {},
   "outputs": [],
   "source": []
  },
  {
   "cell_type": "code",
   "execution_count": null,
   "id": "1680a5a3",
   "metadata": {},
   "outputs": [],
   "source": []
  }
 ],
 "metadata": {
  "kernelspec": {
   "display_name": "Python 3 (ipykernel)",
   "language": "python",
   "name": "python3"
  },
  "language_info": {
   "codemirror_mode": {
    "name": "ipython",
    "version": 3
   },
   "file_extension": ".py",
   "mimetype": "text/x-python",
   "name": "python",
   "nbconvert_exporter": "python",
   "pygments_lexer": "ipython3",
   "version": "3.9.7"
  }
 },
 "nbformat": 4,
 "nbformat_minor": 5
}
