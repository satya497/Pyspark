{
 "cells": [
  {
   "cell_type": "markdown",
   "id": "e3f2d1bf",
   "metadata": {},
   "source": [
    "# Recon Configuration Automation\n",
    "### 1.recon_sort table"
   ]
  },
  {
   "cell_type": "code",
   "execution_count": null,
   "id": "605f0b58",
   "metadata": {},
   "outputs": [],
   "source": [
    "import pandas as pd\n",
    "import numpy as np\n",
    "import os\n",
    "df = pd.read_excel('Baroda_CID Rules.xlsx')\n",
    "df.fillna(value='',inplace=True)\n",
    "df = df[df['Type'] == 'Feed']\n",
    "rules_df = pd.read_excel('Baroda_CID Rules.xlsx',sheet_name = 'SourceVsTask')\n",
    "rules_df.fillna(value='',inplace=True)\n",
    "df_obj = rules_df.select_dtypes(['object'])\n",
    "rules_df[df_obj.columns] = df_obj.apply(lambda x: x.str.strip())\n",
    "rules_df['Fullmatch_Condition'] = rules_df['Fullmatch_Condition'].replace(['=='],'=')\n",
    "rules_df['Crosscredit_Condition'] = rules_df['Crosscredit_Condition'].replace(['=='],'=')"
   ]
  },
  {
   "cell_type": "code",
   "execution_count": null,
   "id": "14a7185a",
   "metadata": {},
   "outputs": [],
   "source": [
    "recon_sort = pd.DataFrame(columns=[\"ID\", \"Recon_ID\", \"Type_Table\", \"Table\", \"Left_Table\", \"Order\", \"Condition\", \"Column\", \"Rank\"])"
   ]
  },
  {
   "cell_type": "code",
   "execution_count": null,
   "id": "d153ef20",
   "metadata": {},
   "outputs": [],
   "source": [
    "def create_joincond(Sub_Feed, feed_df, type_):\n",
    "    join_str = 'SELECT Z.*, O.* FROM standard_feed AS Z INNER JOIN standard_task AS O ON '\n",
    "    if type_ == 'feedvstask':\n",
    "        for idx, rule1 in feed_df.iterrows():\n",
    "            tem_str = f\"Z.`{rule1['Fullmatch_Source_Column']}`{rule1['Fullmatch_Condition']}O.`{rule1['Fullmatch_Task_Column']}` {rule1['Condition']} \"\n",
    "            #Z.`ORDER_NO`=O.`batch` AND Z.`RTA_SCH_CODE`=O.`scheme` AND Z.`AMOUNT`=O.`amt`\n",
    "            join_str = join_str+tem_str\n",
    "        join_str = join_str.strip().rstrip('AND')\n",
    "        return join_str\n",
    "    else:\n",
    "        for idx, rule1 in feed_df.iterrows():\n",
    "            tem_str = f\"Z.`{rule1['Fullmatch_Source_Column']}`{rule1['Fullmatch_Condition']}O.`{rule1['Fullmatch_Task_Column']}` {rule1['Condition']} \"\n",
    "            #Z.`ORDER_NO`=O.`batch` AND Z.`RTA_SCH_CODE`=O.`scheme` AND Z.`AMOUNT`=O.`amt`\n",
    "            join_str = join_str+tem_str\n",
    "        join_str = join_str.strip().rstrip('AND').strip()\n",
    "        return join_str"
   ]
  },
  {
   "cell_type": "code",
   "execution_count": null,
   "id": "51a80387",
   "metadata": {
    "scrolled": true
   },
   "outputs": [],
   "source": [
    "row_val = 0\n",
    "for index, row in df.iterrows():\n",
    "    print(row['Sub-Feed'])\n",
    "    Sub_Feed = row['Sub-Feed']\n",
    "    table_name = row['Table-Name']\n",
    "    feed_df = rules_df[rules_df['Name (Sub_feed/Bank)'] == Sub_Feed]\n",
    "    \n",
    "    tem_df = {'ID':row_val+1,\n",
    "              'Recon_ID':'FeedvsTask1',\n",
    "              'Raw_Feed':table_name,\n",
    "              'Left_Table':'standard_feed',\n",
    "              'Raw_Join':Raw_Join,\n",
    "              'Right_Table':'standard_task',\n",
    "              'Join_Condition':join_condition,\n",
    "              'Column_Selection':'Raw_ID,Task_ID',\n",
    "              'Recon_Update':update_quer,\n",
    "              'Batch':Sub_Feed.lower(),\n",
    "              'module_name':module_name}\n",
    "    recon = recon.append(tem_df, ignore_index = True)\n",
    "    \n",
    "    tem_df = {'ID':row_val+2,\n",
    "              'Recon_ID':'Cross_Credit1',\n",
    "              'Raw_Feed':table_name,\n",
    "              'Left_Table':'standard_feed',\n",
    "              'Raw_Join':Raw_Join,\n",
    "              'Right_Table':'standard_task',\n",
    "              'Join_Condition':join_condition2,\n",
    "              'Column_Selection':'Raw_ID,Task_ID',\n",
    "              'Recon_Update':update_quer2,\n",
    "              'Batch':Sub_Feed.lower(),\n",
    "              'module_name':module_name}\n",
    "    recon = recon.append(tem_df, ignore_index = True)\n",
    "    row_val+=2"
   ]
  },
  {
   "cell_type": "code",
   "execution_count": null,
   "id": "47f984f7",
   "metadata": {},
   "outputs": [],
   "source": [
    "recon.set_index('ID').to_excel('recon.xlsx',sheet_name='recon')"
   ]
  },
  {
   "cell_type": "code",
   "execution_count": null,
   "id": "cb4ef912",
   "metadata": {},
   "outputs": [],
   "source": []
  },
  {
   "cell_type": "markdown",
   "id": "1f3877d4",
   "metadata": {},
   "source": []
  },
  {
   "cell_type": "code",
   "execution_count": null,
   "id": "31598865",
   "metadata": {},
   "outputs": [],
   "source": []
  },
  {
   "cell_type": "code",
   "execution_count": null,
   "id": "d929abb0",
   "metadata": {},
   "outputs": [],
   "source": []
  },
  {
   "cell_type": "code",
   "execution_count": null,
   "id": "1fbaf0fd",
   "metadata": {},
   "outputs": [],
   "source": []
  },
  {
   "cell_type": "code",
   "execution_count": null,
   "id": "aa49515c",
   "metadata": {},
   "outputs": [],
   "source": []
  }
 ],
 "metadata": {
  "kernelspec": {
   "display_name": "Python 3 (ipykernel)",
   "language": "python",
   "name": "python3"
  },
  "language_info": {
   "codemirror_mode": {
    "name": "ipython",
    "version": 3
   },
   "file_extension": ".py",
   "mimetype": "text/x-python",
   "name": "python",
   "nbconvert_exporter": "python",
   "pygments_lexer": "ipython3",
   "version": "3.9.7"
  }
 },
 "nbformat": 4,
 "nbformat_minor": 5
}
